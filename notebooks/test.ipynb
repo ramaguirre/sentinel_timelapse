{
 "cells": [
  {
   "cell_type": "markdown",
   "metadata": {},
   "source": [
    "# Sentinel Timelapse Test\n",
    "\n",
    "This notebook demonstrates the usage of the `sentinel_timelapse` module."
   ]
  },
  {
   "cell_type": "code",
   "execution_count": 1,
   "metadata": {},
   "outputs": [],
   "source": [
    "import sys\n",
    "sys.path.append('..')\n",
    "#!pip install -e ..\n",
    "from sentinel_timelapse import download_images"
   ]
  },
  {
   "cell_type": "code",
   "execution_count": 3,
   "metadata": {},
   "outputs": [],
   "source": [
    "# Test parameters\n",
    "bounds = (407500.0, 7494500.0, 415200.0, 7505700.0)  # Antucoya mine area\n",
    "assets = ['visual', 'SCL']\n",
    "prefix = 'test_jupy'\n",
    "start_date = '2024-02-01'\n",
    "end_date = '2024-02-28'"
   ]
  },
  {
   "cell_type": "code",
   "execution_count": 5,
   "metadata": {},
   "outputs": [
    {
     "name": "stdout",
     "output_type": "stream",
     "text": [
      "Total images found: 5\n",
      "Images filtered due to clouds: 2\n",
      "Images processed per asset: {'visual': 4, 'SCL': 4}\n"
     ]
    }
   ],
   "source": [
    "# Process images and get statistics\n",
    "stats = download_images(\n",
    "    bounds=bounds,\n",
    "    assets=assets,\n",
    "    prefix=prefix,\n",
    "    input_crs=24879,\n",
    "    start_date=start_date,\n",
    "    end_date=end_date,\n",
    "    max_cloud_pct=5\n",
    ")\n",
    "\n",
    "print(f\"Total images found: {stats['total_images']}\")\n",
    "print(f\"Images filtered due to clouds: {stats['cloud_filtered']}\")\n",
    "print(f\"Images processed per asset: {stats['asset_counts']}\")"
   ]
  },
  {
   "cell_type": "code",
   "execution_count": null,
   "metadata": {},
   "outputs": [],
   "source": [
    "import numpy as np"
   ]
  },
  {
   "cell_type": "code",
   "execution_count": null,
   "metadata": {},
   "outputs": [],
   "source": [
    "np.__version__"
   ]
  },
  {
   "cell_type": "code",
   "execution_count": null,
   "metadata": {},
   "outputs": [],
   "source": [
    "np"
   ]
  },
  {
   "cell_type": "code",
   "execution_count": null,
   "metadata": {},
   "outputs": [],
   "source": []
  }
 ],
 "metadata": {
  "kernelspec": {
   "display_name": "PythonNew (base)",
   "language": "python",
   "name": "python3"
  },
  "language_info": {
   "codemirror_mode": {
    "name": "ipython",
    "version": 3
   },
   "file_extension": ".py",
   "mimetype": "text/x-python",
   "name": "python",
   "nbconvert_exporter": "python",
   "pygments_lexer": "ipython3",
   "version": "3.12.3"
  }
 },
 "nbformat": 4,
 "nbformat_minor": 4
}
